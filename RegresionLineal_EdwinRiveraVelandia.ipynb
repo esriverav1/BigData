{
  "nbformat": 4,
  "nbformat_minor": 0,
  "metadata": {
    "colab": {
      "name": "RegresionLineal_EdwinRiveraVelandia.ipynb",
      "provenance": [],
      "authorship_tag": "ABX9TyPMxfAUFKLcCngxxYYYHzJl",
      "include_colab_link": true
    },
    "kernelspec": {
      "name": "python3",
      "display_name": "Python 3"
    }
  },
  "cells": [
    {
      "cell_type": "markdown",
      "metadata": {
        "id": "view-in-github",
        "colab_type": "text"
      },
      "source": [
        "<a href=\"https://colab.research.google.com/github/esriverav1/BigData/blob/main/RegresionLineal_EdwinRiveraVelandia.ipynb\" target=\"_parent\"><img src=\"https://colab.research.google.com/assets/colab-badge.svg\" alt=\"Open In Colab\"/></a>"
      ]
    },
    {
      "cell_type": "markdown",
      "metadata": {
        "id": "w4zJdx3n6qUp"
      },
      "source": [
        "#Regresión Lineal"
      ]
    },
    {
      "cell_type": "markdown",
      "metadata": {
        "id": "r_v50jyP4GD6"
      },
      "source": [
        "Realizado por: Edwin Stiven Rivera Velandia"
      ]
    },
    {
      "cell_type": "markdown",
      "metadata": {
        "id": "Y0zrwUnr_ktl"
      },
      "source": [
        "##Introducción"
      ]
    },
    {
      "cell_type": "markdown",
      "metadata": {
        "id": "1RNMNC9H6xMn"
      },
      "source": [
        "La regresión lineal se enfoca en la aproximación de la relación de dependencia entre una variable endógena, o independiente **Y**, y $m$ variables exógenas, o independientes **$X_{i}$**. La relación es expresada en un modelo matepmatico, espresado como:\r\n",
        "\r\n",
        "$$Y={\\beta }_{0}+{\\beta }_{1}X_{1}+{\\beta }_{2}X_{2}+...+{\\beta }_{m}X_{m}$$\r\n",
        "\r\n",
        "\r\n",
        "Donde ${\\beta }_{1},{\\beta }_{2},...,{\\beta }_{k}$ son los parámetros asociados a cada una de las $k$ variables independiente, y miden la influencia de cada variable $X_{i}$ sobre la variable de respuesta, y ${\\beta }_{0}$ es el parámetro asociado al intercepto."
      ]
    },
    {
      "cell_type": "markdown",
      "metadata": {
        "id": "mzWkos2h_aoM"
      },
      "source": [
        "##Marco histórico"
      ]
    },
    {
      "cell_type": "markdown",
      "metadata": {
        "id": "Q1F_nMoz_pfT"
      },
      "source": [
        "La primera forma de regresión lineal documentada fue el método de los mínimos cuadrados que fue publicada por Legendre en 1805, Gauss publicó un trabajo en donde desarrollaba de manera más profunda el método de los mínimos cuadrados,1​ y en dónde se incluía una versión del teorema de Gauss-Márkov.\r\n",
        "\r\n",
        "Francis Galton acuñó el término regresión. En un famoso ensayo, Galton planteó que, a pesar de la tendencia de los padres de estatura alta a procrear hijos altos y los padres de estatura baja, hijos bajos, la estatura promedio de los niños de padres de una estatura determinada  tendía a desplazarse, es decir, la estatura de los hijos de padres inusualmente altos o inusualmente bajos tiende a dirigirse a la estatura promedio de la población. La ley de regresión universal de Galton fue confirmada por Karl Pearson, quien consolidò más de mil registros de estaturas de miembros de grupos familiares concluyò que se trata de un fenómeno por el cual los hijos altos e hijos bajos “regresan” por igual a la estatura promedio de todos los demás.\r\n"
      ]
    },
    {
      "cell_type": "markdown",
      "metadata": {
        "id": "QGaPUdq0BM5s"
      },
      "source": [
        "##Planteamiento del algoritmo"
      ]
    },
    {
      "cell_type": "markdown",
      "metadata": {
        "id": "cMVACEW4B0cx"
      },
      "source": [
        "Dado que el valor de los parámetros ${\\beta }_{0},{\\beta }_{1},...,{\\beta }_{m}$ asociados a cada una de las $k$ variables exógenas y el parámetros asociado al intercepto son desconocidos, éstos se pueden estimar mediante los datos obtenidos de una muestra.\r\n",
        "\r\n",
        "Suponga que se cuenta con $n>k$ observaciones, siendo k el número de variables regresoras, cada observación $(x_{i1},x_{i2},...,x_{im},y_{i})$ satisface el modelo de la ecuación:\r\n",
        "\r\n",
        "$$y_{i}={\\beta }_{0}+{\\beta }_{i1}x_{1}+{\\beta }_{2}x_{i2}+...+{\\beta }_{k}x_{ik}+e_{i}$$\r\n",
        "$$\\beta_{0}+ \\sum_{i=1}^{k} \\beta_{i}x_{ij}+e_{i}$$\r\n",
        "con $i=1,2,,...,n$\r\n",
        "\r\n",
        "la suma de cuadrados de los errores, SCE, expresada en forma matricial, es:\r\n",
        "\r\n",
        "$$\\sum_{i=1}^{n}e_{i}^{2}=\\sum_{i=1}^{n} (y_{i}-\\beta_{0}-\\sum_{j=1}^{k}\\beta_{ij})^2$$\r\n",
        "$$SCE= \\varepsilon^{t} \\varepsilon = (Y-X \\beta)^T(Y-X \\beta)$$\r\n",
        "\r\n",
        "Donde $\\varepsilon$ corresponde al vector de diferencias entre el valor real y el valor estimado de la variable respuesta: \r\n",
        "$$\\varepsilon = Y-\\hat{Y}$$\r\n",
        "$$\\hat{Y}=Y-X(X^{T}X)^{-1}XY$$\r\n",
        "\r\n",
        "La matriz $X(X^{T}X)^{-1}X$ se denomina como $H$. Ahora, se minimiza la SCE con respecto a ${\\beta }_{0}+{\\beta }_{1}+{\\beta }_{2}+...+{\\beta }_{k}$, de tal manera que la estimación de los $k$ parámetros asociados a las $k$ variables regresoras y el parámetro ${\\beta }_{0}$ asociado al intercepto están dados por la siguiente expresión:\r\n",
        "\r\n",
        "$$\\hat{\\beta}=(X^{T}X)^{-1}XY$$"
      ]
    },
    {
      "cell_type": "markdown",
      "metadata": {
        "id": "1FrpreN-BeFl"
      },
      "source": [
        "##Aplicación en datos"
      ]
    },
    {
      "cell_type": "markdown",
      "metadata": {
        "id": "A8s1AmIlbilp"
      },
      "source": [
        "En la fabricación de productos comerciales de madera es importante estimar la relación que hay entre la densidad de un producto de madera y su rigidez.Como caso de estudio, se toma el estudio \"Investigation of Certain Mechanical Properties of a Wood-Foam Composite\" (Tesis para el doctorado, Departamento de Bosques y Vida Silvestre, University of Massachusetts) realizado por Terrance E. Conners r, en el cual se produjeron 30 tableros de aglomerado con densidades (denominada como variable regresora $x$) que variaban aproximadamente de 8 a 26 libras por pie cúbico y se midió su rigidez (variable respuesta $y$) en libras por pulgada cuadrada."
      ]
    },
    {
      "cell_type": "code",
      "metadata": {
        "colab": {
          "base_uri": "https://localhost:8080/"
        },
        "id": "fpNQzTONU79D",
        "outputId": "75cfb8cb-ac03-471c-8245-c66f3754c2df"
      },
      "source": [
        "import numpy as np\r\n",
        "import pandas as pd\r\n",
        "import matplotlib.pyplot as plt\r\n",
        "import seaborn as sns\r\n",
        "\r\n",
        "# Preprocesado y modelado\r\n",
        "# ==============================================================================\r\n",
        "from scipy.stats import pearsonr\r\n",
        "from sklearn.linear_model import LinearRegression\r\n",
        "from sklearn.model_selection import train_test_split\r\n",
        "from sklearn.metrics import r2_score\r\n",
        "from sklearn.metrics import mean_squared_error\r\n",
        "import statsmodels.api as sm\r\n",
        "import statsmodels.formula.api as smf\r\n",
        "\r\n",
        "x = [9.50,9.80,8.30,8.60,7.00,17.40,15.20,16.70,15.00,14.80,25.60,24.40,19.50,\r\n",
        "     22.80,19.80,8.40,11.00,9.90,6.40,8.20,15.00,16.40,15.40,14.50,13.60,23.40,\r\n",
        "     23.30,21.20,21.70,21.30]\r\n",
        "y = [14814.00,14007.00,7573.00,9714.00,5304.00,43243.00,28028.00,49499.00,\r\n",
        "     26222.00,26751.00,96305.00,72594.00,32207.00,70453.00,38138.00,17502.00,\r\n",
        "     19443.00,14191.00,8076.00,10728.00,25319.00,41792.00,25312.00,22148.00,\r\n",
        "     18036.00,104170.00,49512.00,48218.00,47661.00,53045.00]\r\n",
        "\r\n",
        "datos = pd.DataFrame({'x': x, 'y': y})\r\n",
        "datos.head()\r\n",
        "datos.shape"
      ],
      "execution_count": null,
      "outputs": [
        {
          "output_type": "execute_result",
          "data": {
            "text/plain": [
              "(30, 2)"
            ]
          },
          "metadata": {
            "tags": []
          },
          "execution_count": 32
        }
      ]
    },
    {
      "cell_type": "markdown",
      "metadata": {
        "id": "2C5usRXZquCs"
      },
      "source": [
        "En primera instancia, se representan los datos en un diagrama de dispersión para poder determinar, de manera preliminar, si existe una relación entre las variables estudiadas, y si existe, cuantificar y evaluar la significancia estadística de dicha relación, mediante el coeficiente de correlación de Pearson."
      ]
    },
    {
      "cell_type": "code",
      "metadata": {
        "colab": {
          "base_uri": "https://localhost:8080/",
          "height": 287
        },
        "id": "zNRReUOhcxtX",
        "outputId": "f7e0afd9-0def-4eb8-bfc3-f8f16dcc4c80"
      },
      "source": [
        "fig, ax = plt.subplots(figsize=(6, 3.84))\r\n",
        "\r\n",
        "datos.plot(\r\n",
        "    x    = 'x',\r\n",
        "    y    = 'y',\r\n",
        "    c    = 'firebrick',\r\n",
        "    kind = \"scatter\",\r\n",
        "    ax   = ax\r\n",
        ")\r\n",
        "ax.set_title('Fuerza del brazo vs fuerza dinámica');"
      ],
      "execution_count": null,
      "outputs": [
        {
          "output_type": "display_data",
          "data": {
            "image/png": "[encoded data removed]",
            "text/plain": [
              "<Figure size 432x276.48 with 1 Axes>"
            ]
          },
          "metadata": {
            "tags": [],
            "needs_background": "light"
          }
        }
      ]
    },
    {
      "cell_type": "code",
      "metadata": {
        "colab": {
          "base_uri": "https://localhost:8080/"
        },
        "id": "qDhZQZoRdmiU",
        "outputId": "3a4c8557-393c-4dd8-f171-f92d67303d33"
      },
      "source": [
        "# Correlación lineal entre las dos variables\r\n",
        "# ==============================================================================\r\n",
        "corr_test = pearsonr(x = datos['x'], y =  datos['y'])\r\n",
        "print(\"Coeficiente de correlación de Pearson: \", corr_test[0])\r\n",
        "print(\"P-value: \", corr_test[1])"
      ],
      "execution_count": null,
      "outputs": [
        {
          "output_type": "stream",
          "text": [
            "Coeficiente de correlación de Pearson:  0.8930050637838879\n",
            "P-value:  3.245136770663413e-11\n"
          ],
          "name": "stdout"
        }
      ]
    },
    {
      "cell_type": "markdown",
      "metadata": {
        "id": "7zFqLCoTrY7Z"
      },
      "source": [
        "El gráfico y posterior test de correlación muestran una relación lineal, de aproximadamente 0.89, según el coeficiente de correlación, y significativa según el p.valor asociado al test de correlación. Por tanto, tiene sentido la generación de un modelo de regresión lineal para la predicción de la rigidez de los aglomerados de madera en función de la densidad."
      ]
    },
    {
      "cell_type": "markdown",
      "metadata": {
        "id": "f5lidz09shiZ"
      },
      "source": [
        "###Ajuste del modelo"
      ]
    },
    {
      "cell_type": "markdown",
      "metadata": {
        "id": "TvddWFM6skjG"
      },
      "source": [
        "Se realiza el ajuste de un modelo tomando como variable explicativa la densidad de aglomerados de madera y como variable dependiente la rigidez. Además estimar los parámetros asociados al modelo, es importante cuantificar la capacidad de predicción para nuevas observaciones. Para realizar dicha evaluación, se dividen los datos en dos (2) grupos, uno de entrenamiento y otro de evaluación."
      ]
    },
    {
      "cell_type": "code",
      "metadata": {
        "colab": {
          "base_uri": "https://localhost:8080/"
        },
        "id": "SmueLnKCe6YW",
        "outputId": "45c7d252-8c16-435b-a306-b76a915b1c99"
      },
      "source": [
        "# División de los datos en train y test\r\n",
        "# ==============================================================================\r\n",
        "X = datos[['x']]\r\n",
        "y = datos['y']\r\n",
        "\r\n",
        "X_train, X_test, y_train, y_test = train_test_split(\r\n",
        "                                        X.values.reshape(-1,1),\r\n",
        "                                        y.values.reshape(-1,1),\r\n",
        "                                        train_size   = 0.8,\r\n",
        "                                        random_state = 1000,\r\n",
        "                                        shuffle      = True\r\n",
        "                                    )\r\n",
        "\r\n",
        "# Creación del modelo\r\n",
        "# ==============================================================================\r\n",
        "X_train = sm.add_constant(X_train, prepend=True)\r\n",
        "modelo = sm.OLS(endog=y_train, exog=X_train,)\r\n",
        "modelo = modelo.fit()\r\n",
        "print(modelo.summary())"
      ],
      "execution_count": null,
      "outputs": [
        {
          "output_type": "stream",
          "text": [
            "                            OLS Regression Results                            \n",
            "==============================================================================\n",
            "Dep. Variable:                      y   R-squared:                       0.825\n",
            "Model:                            OLS   Adj. R-squared:                  0.817\n",
            "Method:                 Least Squares   F-statistic:                     103.6\n",
            "Date:                Sat, 13 Mar 2021   Prob (F-statistic):           8.75e-10\n",
            "Time:                        22:37:28   Log-Likelihood:                -252.53\n",
            "No. Observations:                  24   AIC:                             509.1\n",
            "Df Residuals:                      22   BIC:                             511.4\n",
            "Df Model:                           1                                         \n",
            "Covariance Type:            nonrobust                                         \n",
            "==============================================================================\n",
            "                 coef    std err          t      P>|t|      [0.025      0.975]\n",
            "------------------------------------------------------------------------------\n",
            "const      -2.024e+04   5445.238     -3.718      0.001   -3.15e+04   -8950.590\n",
            "x1          3480.8072    342.002     10.178      0.000    2771.538    4190.076\n",
            "==============================================================================\n",
            "Omnibus:                        7.970   Durbin-Watson:                   2.086\n",
            "Prob(Omnibus):                  0.019   Jarque-Bera (JB):                5.889\n",
            "Skew:                           0.938   Prob(JB):                       0.0526\n",
            "Kurtosis:                       4.540   Cond. No.                         45.4\n",
            "==============================================================================\n",
            "\n",
            "Warnings:\n",
            "[1] Standard Errors assume that the covariance matrix of the errors is correctly specified.\n"
          ],
          "name": "stdout"
        }
      ]
    },
    {
      "cell_type": "markdown",
      "metadata": {
        "id": "TNMHFGAutvgv"
      },
      "source": [
        "El modelo ajustado es expresado como:\r\n",
        "$$\\hat{y}=-20243.322+3480.8072x$$\r\n",
        "\r\n",
        "Con un coeficiente de determinación de 0.825, intepretado como que el 82.5% de la variabilidad en la rigidez de los aglomerados de madera es explicada por la densidad."
      ]
    },
    {
      "cell_type": "markdown",
      "metadata": {
        "id": "FH1MlWzau3SH"
      },
      "source": [
        "Por último, se grafica la curva ajustada vía mínimos cuadrados ordinarios, incluyendo los límites inferior y superior del intervalo de confianza del 95% para la predicción:"
      ]
    },
    {
      "cell_type": "code",
      "metadata": {
        "colab": {
          "base_uri": "https://localhost:8080/",
          "height": 258
        },
        "id": "HFBOSHcHudut",
        "outputId": "d819869b-6269-4bf4-fc8c-d2991585d5ba"
      },
      "source": [
        "# Predicciones con intervalo de confianza del 95%\r\n",
        "# ==============================================================================\r\n",
        "predicciones = modelo.get_prediction(exog = X_train).summary_frame(alpha=0.05)\r\n",
        "predicciones.head(4)\r\n",
        "# ==============================================================================\r\n",
        "predicciones = modelo.get_prediction(exog = X_train).summary_frame(alpha=0.05)\r\n",
        "predicciones['x'] = X_train[:, 1]\r\n",
        "predicciones['y'] = y_train\r\n",
        "predicciones = predicciones.sort_values('x')\r\n",
        "\r\n",
        "# Gráfico del modelo\r\n",
        "# ==============================================================================\r\n",
        "fig, ax = plt.subplots(figsize=(6, 3.84))\r\n",
        "\r\n",
        "ax.scatter(predicciones['x'], predicciones['y'], marker='o', color = \"gray\")\r\n",
        "ax.plot(predicciones['x'], predicciones[\"mean\"], linestyle='-', label=\"OLS\")\r\n",
        "ax.plot(predicciones['x'], predicciones[\"mean_ci_lower\"], linestyle='--', color='red', label=\"95% CI\")\r\n",
        "ax.plot(predicciones['x'], predicciones[\"mean_ci_upper\"], linestyle='--', color='red')\r\n",
        "ax.fill_between(predicciones['x'], predicciones[\"mean_ci_lower\"], predicciones[\"mean_ci_upper\"], alpha=0.1)\r\n",
        "ax.legend();"
      ],
      "execution_count": null,
      "outputs": [
        {
          "output_type": "display_data",
          "data": {
            "image/png": "[encoded data removed]",
            "text/plain": [
              "<Figure size 432x276.48 with 1 Axes>"
            ]
          },
          "metadata": {
            "tags": [],
            "needs_background": "light"
          }
        }
      ]
    },
    {
      "cell_type": "markdown",
      "metadata": {
        "id": "8w23AnSrBl9j"
      },
      "source": [
        "##Conclusiones"
      ]
    },
    {
      "cell_type": "markdown",
      "metadata": {
        "id": "T_LKOZvSwu8u"
      },
      "source": [
        "\r\n",
        "> Si bien el modelo de regresión lineal ajustado vía mínimos cuadrados ordinarios explica apropiadamente la variabilidad de la rigidez de aglomerados de madera, en función de la densidad, puede ser usado para realizar predicciones simples o generar un acercamiento a la magnitud o rango del valor real de la variable estudiada.\r\n",
        "\r\n",
        "\r\n",
        "> Los parámetros asociados al intercepto del modelo y a la variable exógena son significativos estadísticamente, con una confianza del 95%.\r\n",
        "\r\n",
        "\r\n",
        "\r\n",
        "\r\n"
      ]
    },
    {
      "cell_type": "markdown",
      "metadata": {
        "id": "_j2bML3r0ECF"
      },
      "source": [
        "##Referencias bibliográficas"
      ]
    },
    {
      "cell_type": "markdown",
      "metadata": {
        "id": "HCkYX12Z0Kyt"
      },
      "source": [
        "\r\n",
        "\r\n",
        "*   Gujarati, D., & Porter, D. (2009). Econometría (5 ed.).\r\n",
        "*   Montgomery, D., & Runger, G. (2003). Probabilidad y estadística aplicadas a la ingeniería.\r\n",
        "*   Walpole, R., Myers, R., Myers, S., & Ye, K. (2012). Probabilidad y estadística para ingeniería y ciencias.\r\n",
        "*   Regresión lineal con python, https://www.cienciadedatos.net/documentos/py10-regresion-lineal-python.html\r\n",
        "\r\n",
        " \r\n",
        "\r\n",
        "\r\n",
        "\r\n"
      ]
    }
  ]
}